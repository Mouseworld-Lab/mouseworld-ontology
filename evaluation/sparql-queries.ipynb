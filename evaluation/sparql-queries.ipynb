{
 "cells": [
  {
   "cell_type": "code",
   "execution_count": 46,
   "id": "2137093c-2a32-48bf-8212-7c2d61b19d51",
   "metadata": {},
   "outputs": [],
   "source": [
    "import rdflib"
   ]
  },
  {
   "cell_type": "markdown",
   "id": "279bcc58",
   "metadata": {},
   "source": [
    "Load ontology and example"
   ]
  },
  {
   "cell_type": "markdown",
   "id": "b70320df",
   "metadata": {},
   "source": [
    "Load prefixes"
   ]
  },
  {
   "cell_type": "code",
   "execution_count": 47,
   "id": "4dcaedd4",
   "metadata": {},
   "outputs": [],
   "source": [
    "prefixes = \"\"\"\n",
    "PREFIX mw: <https://w3id.org/candil/mouseworld#>\n",
    "PREFIX mod: <https://w3id.org/mod#>\n",
    "PREFIX owl: <http://www.w3.org/2002/07/owl#>\n",
    "PREFIX rdf: <http://www.w3.org/1999/02/22-rdf-syntax-ns#>\n",
    "PREFIX xml: <http://www.w3.org/XML/1998/namespace>\n",
    "PREFIX xsd: <http://www.w3.org/2001/XMLSchema#>\n",
    "PREFIX rdfs: <http://www.w3.org/2000/01/rdf-schema#>\n",
    "PREFIX vann: <http://purl.org/vocab/vann/>\n",
    "PREFIX dcterms: <http://purl.org/dc/terms/>\n",
    "\"\"\""
   ]
  },
  {
   "cell_type": "markdown",
   "id": "ffc8f357",
   "metadata": {},
   "source": [
    "## Test query"
   ]
  },
  {
   "cell_type": "code",
   "execution_count": 48,
   "id": "43c2512d",
   "metadata": {},
   "outputs": [
    {
     "name": "stdout",
     "output_type": "stream",
     "text": [
      "319\n"
     ]
    }
   ],
   "source": [
    "g = rdflib.Graph()\n",
    "g.parse(\"../ontology/ontology.ttl\", format='turtle')\n",
    "g.parse(\"../examples/example-frr.ttl\", format='turtle')\n",
    "print(len(g))"
   ]
  },
  {
   "cell_type": "code",
   "execution_count": null,
   "id": "6787cc78",
   "metadata": {},
   "outputs": [
    {
     "ename": "AttributeError",
     "evalue": "link",
     "output_type": "error",
     "traceback": [
      "\u001b[0;31m---------------------------------------------------------------------------\u001b[0m",
      "\u001b[0;31mAttributeError\u001b[0m                            Traceback (most recent call last)",
      "Cell \u001b[0;32mIn[66], line 23\u001b[0m\n\u001b[1;32m      1\u001b[0m q_res \u001b[38;5;241m=\u001b[39m g\u001b[38;5;241m.\u001b[39mquery(prefixes \u001b[38;5;241m+\u001b[39m \u001b[38;5;124m\"\"\"\u001b[39m\n\u001b[1;32m      2\u001b[0m \u001b[38;5;124m    SELECT ?nameA ?nodeIdA ?nameB ?nodeIdB (SAMPLE(?link) AS ?linkSample)\u001b[39m\n\u001b[1;32m      3\u001b[0m \u001b[38;5;124m    WHERE \u001b[39m\u001b[38;5;124m{\u001b[39m\n\u001b[0;32m   (...)\u001b[0m\n\u001b[1;32m     18\u001b[0m \u001b[38;5;124m    GROUP BY ?link\u001b[39m\n\u001b[1;32m     19\u001b[0m \u001b[38;5;124m\"\"\"\u001b[39m)\n\u001b[1;32m     22\u001b[0m \u001b[38;5;28;01mfor\u001b[39;00m row \u001b[38;5;129;01min\u001b[39;00m q_res:\n\u001b[0;32m---> 23\u001b[0m     \u001b[38;5;28mprint\u001b[39m(\u001b[38;5;124mf\u001b[39m\u001b[38;5;124m\"\u001b[39m\u001b[38;5;124mLink: \u001b[39m\u001b[38;5;132;01m{\u001b[39;00mrow\u001b[38;5;241m.\u001b[39mlink\u001b[38;5;132;01m}\u001b[39;00m\u001b[38;5;124m Node A --> \u001b[39m\u001b[38;5;132;01m{\u001b[39;00mrow\u001b[38;5;241m.\u001b[39mnameA\u001b[38;5;132;01m}\u001b[39;00m\u001b[38;5;124m \u001b[39m\u001b[38;5;132;01m{\u001b[39;00mrow\u001b[38;5;241m.\u001b[39mnodeIdA\u001b[38;5;132;01m}\u001b[39;00m\u001b[38;5;124m Node B --> \u001b[39m\u001b[38;5;132;01m{\u001b[39;00mrow\u001b[38;5;241m.\u001b[39mnameB\u001b[38;5;132;01m}\u001b[39;00m\u001b[38;5;124m \u001b[39m\u001b[38;5;132;01m{\u001b[39;00mrow\u001b[38;5;241m.\u001b[39mnodeIdB\u001b[38;5;132;01m}\u001b[39;00m\u001b[38;5;124m\"\u001b[39m)\n",
      "File \u001b[0;32m~/github/candil-data-fabric/mouseworld-ontology/.venv/lib/python3.10/site-packages/rdflib/query.py:166\u001b[0m, in \u001b[0;36mResultRow.__getattr__\u001b[0;34m(self, name)\u001b[0m\n\u001b[1;32m    164\u001b[0m \u001b[38;5;28;01mdef\u001b[39;00m\u001b[38;5;250m \u001b[39m\u001b[38;5;21m__getattr__\u001b[39m(\u001b[38;5;28mself\u001b[39m, name: \u001b[38;5;28mstr\u001b[39m) \u001b[38;5;241m-\u001b[39m\u001b[38;5;241m>\u001b[39m Identifier:\n\u001b[1;32m    165\u001b[0m     \u001b[38;5;28;01mif\u001b[39;00m name \u001b[38;5;129;01mnot\u001b[39;00m \u001b[38;5;129;01min\u001b[39;00m \u001b[38;5;28mself\u001b[39m\u001b[38;5;241m.\u001b[39mlabels:\n\u001b[0;32m--> 166\u001b[0m         \u001b[38;5;28;01mraise\u001b[39;00m \u001b[38;5;167;01mAttributeError\u001b[39;00m(name)\n\u001b[1;32m    167\u001b[0m     \u001b[38;5;28;01mreturn\u001b[39;00m \u001b[38;5;28mtuple\u001b[39m\u001b[38;5;241m.\u001b[39m\u001b[38;5;21m__getitem__\u001b[39m(\u001b[38;5;28mself\u001b[39m, \u001b[38;5;28mself\u001b[39m\u001b[38;5;241m.\u001b[39mlabels[name])\n",
      "\u001b[0;31mAttributeError\u001b[0m: link"
     ]
    }
   ],
   "source": [
    "q_res = g.query(prefixes + \"\"\"\n",
    "    SELECT *\n",
    "    WHERE {\n",
    "        ?link a mw:Link ;\n",
    "            mw:connectsInterface ?ifaceA ;\n",
    "            mw:connectsInterface ?ifaceB\n",
    "        .\n",
    "        ?ifaceA mw:interfaceName ?nameA .\n",
    "        ?nodeA mw:interface ?ifaceA ;\n",
    "            mw:nodeId ?nodeIdA\n",
    "        .\n",
    "        ?ifaceB mw:interfaceName ?nameB .\n",
    "        ?nodeB mw:interface ?ifaceB ;\n",
    "            mw:nodeId ?nodeIdB\n",
    "        .\n",
    "        FILTER (?ifaceA != ?ifaceB)\n",
    "    }\n",
    "\n",
    "\"\"\")\n",
    "\n",
    "\n",
    "for row in q_res:\n",
    "    print(f\"Link: {row.link} Node A --> {row.nameA} {row.nodeIdA} Node B --> {row.nameB} {row.nodeIdB}\")"
   ]
  }
 ],
 "metadata": {
  "kernelspec": {
   "display_name": ".venv",
   "language": "python",
   "name": "python3"
  },
  "language_info": {
   "codemirror_mode": {
    "name": "ipython",
    "version": 3
   },
   "file_extension": ".py",
   "mimetype": "text/x-python",
   "name": "python",
   "nbconvert_exporter": "python",
   "pygments_lexer": "ipython3",
   "version": "3.10.4"
  }
 },
 "nbformat": 4,
 "nbformat_minor": 5
}
